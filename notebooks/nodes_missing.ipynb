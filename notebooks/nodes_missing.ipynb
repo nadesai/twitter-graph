{
 "cells": [
  {
   "cell_type": "code",
   "execution_count": 1,
   "id": "673682cd-201e-4e6d-87b4-31cd79219dcf",
   "metadata": {},
   "outputs": [],
   "source": [
    "import networkx as nx\n",
    "import pandas as pd"
   ]
  },
  {
   "cell_type": "code",
   "execution_count": 2,
   "id": "62112f33-547e-4a12-8980-2ca5849bfbff",
   "metadata": {},
   "outputs": [],
   "source": [
    "edges = pd.read_csv(\"../out/nikhilarundesai/edges.csv\")"
   ]
  },
  {
   "cell_type": "code",
   "execution_count": 3,
   "id": "dc063f4b-f5ba-46e4-bd61-6094858daaa4",
   "metadata": {},
   "outputs": [],
   "source": [
    "nodes = pd.read_csv(\"../out/nikhilarundesai/nodes.csv\")"
   ]
  },
  {
   "cell_type": "code",
   "execution_count": 4,
   "id": "3b64d855-68cb-4b03-8355-cd3d9922c42b",
   "metadata": {},
   "outputs": [],
   "source": [
    "lookup_table = nodes[[\"Id\", \"screen_name\"]]\n",
    "id_lookup = {n[\"Id\"]: n[\"screen_name\"] for _, n in lookup_table.iterrows()}"
   ]
  },
  {
   "cell_type": "code",
   "execution_count": 5,
   "id": "dc04b9cf-866b-44b2-98ef-9e85877eedd7",
   "metadata": {},
   "outputs": [],
   "source": [
    "G = nx.from_pandas_edgelist(edges, source=\"Source\", target=\"Target\")"
   ]
  },
  {
   "cell_type": "code",
   "execution_count": 6,
   "id": "e7367090-bd6a-4843-b6d1-28e9c4257581",
   "metadata": {},
   "outputs": [
    {
     "data": {
      "text/plain": [
       "4988"
      ]
     },
     "execution_count": 6,
     "metadata": {},
     "output_type": "execute_result"
    }
   ],
   "source": [
    "len(G.nodes())"
   ]
  },
  {
   "cell_type": "code",
   "execution_count": 7,
   "id": "b7d22825-4ec3-4716-aa48-54e07dca121c",
   "metadata": {},
   "outputs": [
    {
     "data": {
      "text/plain": [
       "(5002, 48)"
      ]
     },
     "execution_count": 7,
     "metadata": {},
     "output_type": "execute_result"
    }
   ],
   "source": [
    "nodes.shape"
   ]
  },
  {
   "cell_type": "code",
   "execution_count": 8,
   "id": "fca63660-d73f-4e4b-8760-ca883c566397",
   "metadata": {},
   "outputs": [],
   "source": [
    "missing_nodes = set(nodes['Id']) - set(G.nodes())"
   ]
  },
  {
   "cell_type": "code",
   "execution_count": 9,
   "id": "7b79d03b-6a99-4582-8dc7-d3c4fee810eb",
   "metadata": {},
   "outputs": [
    {
     "data": {
      "text/plain": [
       "{'BrendanCorcoran',\n",
       " 'DesiNutriAuth',\n",
       " 'Edhiorg',\n",
       " 'EzBakeIO',\n",
       " 'PMOWYO',\n",
       " 'ProjectNeptune',\n",
       " 'baghdadiletter',\n",
       " 'bairopiteclinic',\n",
       " 'moylanforcc',\n",
       " 'mymanmike',\n",
       " 'smcproject',\n",
       " 'sprowberry',\n",
       " 'ucl_thin',\n",
       " 'wickeddreamer11'}"
      ]
     },
     "execution_count": 9,
     "metadata": {},
     "output_type": "execute_result"
    }
   ],
   "source": [
    "{id_lookup[i] for i in missing_nodes}"
   ]
  },
  {
   "cell_type": "code",
   "execution_count": null,
   "id": "a53f370b-a30b-4cf3-9315-c50cc9207bd3",
   "metadata": {},
   "outputs": [],
   "source": []
  }
 ],
 "metadata": {
  "kernelspec": {
   "display_name": "Python 3 (ipykernel)",
   "language": "python",
   "name": "python3"
  },
  "language_info": {
   "codemirror_mode": {
    "name": "ipython",
    "version": 3
   },
   "file_extension": ".py",
   "mimetype": "text/x-python",
   "name": "python",
   "nbconvert_exporter": "python",
   "pygments_lexer": "ipython3",
   "version": "3.9.10"
  }
 },
 "nbformat": 4,
 "nbformat_minor": 5
}
