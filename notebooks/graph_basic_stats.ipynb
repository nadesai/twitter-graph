{
 "cells": [
  {
   "cell_type": "code",
   "execution_count": 1,
   "id": "c23b8b63-5020-4d0d-b0a6-d516ab7a110b",
   "metadata": {},
   "outputs": [],
   "source": [
    "import networkx as nx\n",
    "import pandas as pd"
   ]
  },
  {
   "cell_type": "code",
   "execution_count": 2,
   "id": "d38d09d3-03d2-4d93-b155-65347bcdcb1c",
   "metadata": {},
   "outputs": [],
   "source": [
    "edges = pd.read_csv(\"../out/nikhilarundesai/edges.csv\")\n",
    "nodes = pd.read_csv(\"../out/nikhilarundesai/nodes.csv\")"
   ]
  },
  {
   "cell_type": "code",
   "execution_count": 3,
   "id": "fa098134-c027-4bf4-8431-adf835eeced6",
   "metadata": {},
   "outputs": [],
   "source": [
    "lookup_table = nodes[[\"Id\", \"screen_name\"]]\n",
    "id_lookup = {n[\"Id\"]: n[\"screen_name\"] for _, n in lookup_table.iterrows()}"
   ]
  },
  {
   "cell_type": "code",
   "execution_count": 4,
   "id": "bfb5871b-eb93-4201-9ba3-0b512c62816b",
   "metadata": {},
   "outputs": [],
   "source": [
    "G = nx.from_pandas_edgelist(edges, source=\"Source\", target=\"Target\")"
   ]
  },
  {
   "cell_type": "code",
   "execution_count": 5,
   "id": "62b46c39-d353-4bb9-b19d-211669af40da",
   "metadata": {},
   "outputs": [
    {
     "data": {
      "text/plain": [
       "4988"
      ]
     },
     "execution_count": 5,
     "metadata": {},
     "output_type": "execute_result"
    }
   ],
   "source": [
    "len(G.nodes())"
   ]
  },
  {
   "cell_type": "code",
   "execution_count": 6,
   "id": "4fa4e998-0951-4e10-b557-5e2549991e45",
   "metadata": {},
   "outputs": [
    {
     "data": {
      "text/plain": [
       "529606"
      ]
     },
     "execution_count": 6,
     "metadata": {},
     "output_type": "execute_result"
    }
   ],
   "source": [
    "len(G.edges())"
   ]
  },
  {
   "cell_type": "code",
   "execution_count": 7,
   "id": "f13ef67a-1a43-4988-8e36-0ba76c93047c",
   "metadata": {},
   "outputs": [
    {
     "data": {
      "text/plain": [
       "5"
      ]
     },
     "execution_count": 7,
     "metadata": {},
     "output_type": "execute_result"
    }
   ],
   "source": [
    "nx.diameter(G)"
   ]
  },
  {
   "cell_type": "code",
   "execution_count": 8,
   "id": "db098939-0541-402b-95f4-53b12106ae57",
   "metadata": {},
   "outputs": [
    {
     "data": {
      "text/plain": [
       "2.136833393125253"
      ]
     },
     "execution_count": 8,
     "metadata": {},
     "output_type": "execute_result"
    }
   ],
   "source": [
    "nx.algorithms.shortest_paths.generic.average_shortest_path_length(G)"
   ]
  },
  {
   "cell_type": "code",
   "execution_count": 9,
   "id": "fe190885-11ca-422c-b4be-4541806d10a6",
   "metadata": {},
   "outputs": [
    {
     "data": {
      "text/plain": [
       "212.35204490777866"
      ]
     },
     "execution_count": 9,
     "metadata": {},
     "output_type": "execute_result"
    }
   ],
   "source": [
    "sum(d for n, d in G.degree()) / len(G.nodes())  # Average degree"
   ]
  },
  {
   "cell_type": "code",
   "execution_count": 10,
   "id": "3cfdec11-bfe2-4585-ae9c-ba83974bfe13",
   "metadata": {},
   "outputs": [
    {
     "data": {
      "text/plain": [
       "0.32967596349232137"
      ]
     },
     "execution_count": 10,
     "metadata": {},
     "output_type": "execute_result"
    }
   ],
   "source": [
    "nx.average_clustering(G)"
   ]
  },
  {
   "cell_type": "code",
   "execution_count": null,
   "id": "09d0ba61-e37a-405d-a54c-ac5c1e8c2b90",
   "metadata": {},
   "outputs": [],
   "source": []
  }
 ],
 "metadata": {
  "kernelspec": {
   "display_name": "Python 3 (ipykernel)",
   "language": "python",
   "name": "python3"
  },
  "language_info": {
   "codemirror_mode": {
    "name": "ipython",
    "version": 3
   },
   "file_extension": ".py",
   "mimetype": "text/x-python",
   "name": "python",
   "nbconvert_exporter": "python",
   "pygments_lexer": "ipython3",
   "version": "3.9.10"
  }
 },
 "nbformat": 4,
 "nbformat_minor": 5
}
